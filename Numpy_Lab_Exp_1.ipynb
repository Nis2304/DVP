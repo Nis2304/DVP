{
  "cells": [
    {
      "cell_type": "markdown",
      "id": "4e8ab3b2",
      "metadata": {
        "id": "4e8ab3b2"
      },
      "source": [
        "# Ex No 1.a: Basic NumPy Array Operations\n",
        "Aim: To understand the basics of NumPy arrays, including creation, attributes, slicing and indexing.\n",
        "\n",
        "Scenario: You are a financial analyst working with a dataset of monthly sales revenue for a company over a year. You need to organize and analyze this data efficiently.\n",
        "\n",
        "Sample Dataset:\n",
        "months = ['January', 'February', 'March', 'April', 'May', 'June', 'July', 'August', 'September', 'October', 'November', 'December']\n",
        "sales_revenue = [12000, 15000, 17000, 13000, 16000, 18000, 20000, 19000, 17500, 16000, 15000, 16500]\n",
        "\n",
        "Task to be Performed:\n",
        "1.\tCreate a NumPy array from the sales revenue list.\n",
        "2.\tRetrieve the attributes of the array (shape, size, dtype).\n",
        "3.\tSlice the array to get the sales revenue for the first half of the year.\n",
        "4.\tIndex the array to get the sales revenue for May.\n",
        "5.\tCalculate the total sales revenue for the year.\n",
        "6.\tFind the month with the highest sales revenue.\n",
        "\n",
        "Expected Output:\n",
        "\n",
        "Shape: (12,)\n",
        "\n",
        "Size: 12\n",
        "\n",
        "Data type: int32\n",
        "\n",
        "First half of the year sales revenue: [12000 15000 17000 13000 16000 18000]\n",
        "\n",
        "Sales revenue for May: 16000\n",
        "\n",
        "Total sales revenue for the year: 195500\n",
        "\n",
        "Month with highest sales revenue: July\n"
      ]
    },
    {
      "cell_type": "code",
      "execution_count": null,
      "id": "122c82fe",
      "metadata": {
        "id": "122c82fe"
      },
      "outputs": [],
      "source": [
        "months = ['January', 'February', 'March', 'April', 'May', 'June',\n",
        "          'July', 'August', 'September', 'October', 'November', 'December']\n",
        "\n",
        "sales_revenue = [12000, 15000, 17000, 13000, 16000, 18000,\n",
        "                 20000, 19000, 17500, 16000, 15000, 16500]\n",
        "import numpy as np\n",
        "\n",
        "revenue = np.array(sales_revenue)\n"
      ]
    },
    {
      "cell_type": "code",
      "source": [
        "print(\"Shape:\", revenue.shape)     # (12,)\n",
        "print(\"Size:\", revenue.size)       # 12\n",
        "print(\"Data type:\", revenue.dtype) # int64 or int32 depending on system\n"
      ],
      "metadata": {
        "id": "E2BU5A8d1gFb",
        "outputId": "e88c638e-f17e-49a2-e35f-6957f89c5ded",
        "colab": {
          "base_uri": "https://localhost:8080/"
        }
      },
      "id": "E2BU5A8d1gFb",
      "execution_count": null,
      "outputs": [
        {
          "output_type": "stream",
          "name": "stdout",
          "text": [
            "Shape: (12,)\n",
            "Size: 12\n",
            "Data type: int64\n"
          ]
        }
      ]
    },
    {
      "cell_type": "code",
      "source": [
        "first_half = revenue[0:6]\n",
        "print(\"Sales revenue (Jan–Jun):\", first_half)\n"
      ],
      "metadata": {
        "id": "xlR8ykAZ1j-T",
        "outputId": "cf0da9a9-2362-4746-fb9c-4dace99d0862",
        "colab": {
          "base_uri": "https://localhost:8080/"
        }
      },
      "id": "xlR8ykAZ1j-T",
      "execution_count": null,
      "outputs": [
        {
          "output_type": "stream",
          "name": "stdout",
          "text": [
            "Sales revenue (Jan–Jun): [12000 15000 17000 13000 16000 18000]\n"
          ]
        }
      ]
    },
    {
      "cell_type": "code",
      "source": [
        "may_revenue = revenue[4]  # May is at index 4\n",
        "print(\"Sales revenue in May:\", may_revenue)\n"
      ],
      "metadata": {
        "id": "dJ7aWvYc1l8D",
        "outputId": "d2daaa10-2eed-43ea-f857-25ce5bd54e94",
        "colab": {
          "base_uri": "https://localhost:8080/"
        }
      },
      "id": "dJ7aWvYc1l8D",
      "execution_count": null,
      "outputs": [
        {
          "output_type": "stream",
          "name": "stdout",
          "text": [
            "Sales revenue in May: 16000\n"
          ]
        }
      ]
    },
    {
      "cell_type": "code",
      "source": [
        "total_revenue = np.sum(revenue)\n",
        "print(\"Total annual sales revenue:\", total_revenue)\n"
      ],
      "metadata": {
        "id": "8VA6LlV51ptj",
        "outputId": "f0b0932c-8417-41b3-f57f-57f5c83288b7",
        "colab": {
          "base_uri": "https://localhost:8080/"
        }
      },
      "id": "8VA6LlV51ptj",
      "execution_count": null,
      "outputs": [
        {
          "output_type": "stream",
          "name": "stdout",
          "text": [
            "Total annual sales revenue: 195000\n"
          ]
        }
      ]
    },
    {
      "cell_type": "code",
      "source": [
        "max_index = np.argmax(revenue)\n",
        "max_month = months[max_index]\n",
        "max_value = revenue[max_index]\n",
        "\n",
        "print(f\"Month with highest sales: {max_month} (${max_value})\")\n"
      ],
      "metadata": {
        "id": "t66JXhrx1utz",
        "outputId": "055dd1a8-b41e-47c4-c007-79a076553d16",
        "colab": {
          "base_uri": "https://localhost:8080/"
        }
      },
      "id": "t66JXhrx1utz",
      "execution_count": null,
      "outputs": [
        {
          "output_type": "stream",
          "name": "stdout",
          "text": [
            "Month with highest sales: July ($20000)\n"
          ]
        }
      ]
    },
    {
      "cell_type": "markdown",
      "id": "8490d197",
      "metadata": {
        "id": "8490d197"
      },
      "source": [
        "# Ex. No. 1.b: Aggregate Functions\n",
        "Aim:\n",
        "To use aggregate functions in NumPy for summarizing and analyzing data.\n",
        "\n",
        "Scenario:\n",
        "You are a financial analyst examining the monthly returns of different investment portfolios. You need to calculate various aggregate statistics to understand the performance and risk associated with each portfolio.\n",
        "\n",
        "Sample Dataset:\n",
        "returns_data = {\n",
        "    'portfolio_A': [0.05, 0.02, 0.04, 0.03, 0.06, 0.01],\n",
        "    'portfolio_B': [0.04, 0.03, 0.05, 0.02, 0.01, 0.04],\n",
        "    'portfolio_C': [0.03, 0.01, 0.02, 0.03, 0.04, 0.05]\n",
        "}\n",
        "\n",
        "Task to be Performed:\n",
        "\n",
        "1.\tCreate a NumPy array for each portfolio's returns.\n",
        "2.\tCalculate the total return for each portfolio over the six months.\n",
        "3.\tCalculate the mean monthly return for each portfolio.\n",
        "4.\tFind the portfolio with the highest mean return.\n",
        "5.\tCalculate the overall average return across all portfolios.\n",
        "6.\tDetermine the variance and standard deviation of the returns for each portfolio to assess risk.\n"
      ]
    },
    {
      "cell_type": "code",
      "execution_count": null,
      "id": "ca2cbdb5",
      "metadata": {
        "id": "ca2cbdb5"
      },
      "outputs": [],
      "source": [
        "import numpy as np"
      ]
    },
    {
      "cell_type": "code",
      "source": [
        "\n",
        "returns_data = {\n",
        "    'portfolio_A': [0.05, 0.02, 0.04, 0.03, 0.06, 0.01],\n",
        "    'portfolio_B': [0.04, 0.03, 0.05, 0.02, 0.01, 0.04],\n",
        "    'portfolio_C': [0.03, 0.01, 0.02, 0.03, 0.04, 0.05]\n",
        "}\n",
        "\n",
        "\n",
        "portfolio_A = np.array(returns_data['portfolio_A'])\n",
        "portfolio_B = np.array(returns_data['portfolio_B'])\n",
        "portfolio_C = np.array(returns_data['portfolio_C'])\n",
        "\n",
        "\n",
        "print(\"Portfolio A:\", portfolio_A)\n",
        "print(\"Portfolio B:\", portfolio_B)\n",
        "print(\"Portfolio C:\", portfolio_C)"
      ],
      "metadata": {
        "id": "_RaSxbCzs7ib",
        "outputId": "663c806d-8887-44e1-b235-2bf281e99256",
        "colab": {
          "base_uri": "https://localhost:8080/"
        }
      },
      "id": "_RaSxbCzs7ib",
      "execution_count": null,
      "outputs": [
        {
          "output_type": "stream",
          "name": "stdout",
          "text": [
            "Portfolio A: [0.05 0.02 0.04 0.03 0.06 0.01]\n",
            "Portfolio B: [0.04 0.03 0.05 0.02 0.01 0.04]\n",
            "Portfolio C: [0.03 0.01 0.02 0.03 0.04 0.05]\n"
          ]
        }
      ]
    },
    {
      "cell_type": "code",
      "source": [
        "\n",
        "total_return_A = np.sum(portfolio_A)\n",
        "total_return_B = np.sum(portfolio_B)\n",
        "total_return_C = np.sum(portfolio_C)\n",
        "\n",
        "print(f\"Total return of Portfolio A over 6 months: {total_return_A:.4f}\")\n",
        "print(f\"Total return of Portfolio B over 6 months: {total_return_B:.4f}\")\n",
        "print(f\"Total return of Portfolio C over 6 months: {total_return_C:.4f}\")\n"
      ],
      "metadata": {
        "id": "p_1XbTJetGra",
        "outputId": "6ca219da-5cd2-41c0-c18e-a0ffb091b6be",
        "colab": {
          "base_uri": "https://localhost:8080/"
        }
      },
      "id": "p_1XbTJetGra",
      "execution_count": null,
      "outputs": [
        {
          "output_type": "stream",
          "name": "stdout",
          "text": [
            "Total return of Portfolio A over 6 months: 0.2100\n",
            "Total return of Portfolio B over 6 months: 0.1900\n",
            "Total return of Portfolio C over 6 months: 0.1800\n"
          ]
        }
      ]
    },
    {
      "cell_type": "code",
      "source": [
        "\n",
        "mean_return_A = np.mean(portfolio_A)\n",
        "mean_return_B = np.mean(portfolio_B)\n",
        "mean_return_C = np.mean(portfolio_C)\n",
        "\n",
        "\n",
        "print(f\"Mean monthly return of Portfolio A: {mean_return_A:.4f}\")\n",
        "print(f\"Mean monthly return of Portfolio B: {mean_return_B:.4f}\")\n",
        "print(f\"Mean monthly return of Portfolio C: {mean_return_C:.4f}\")\n"
      ],
      "metadata": {
        "id": "tVpyvwY_tehq",
        "outputId": "3a0d9600-82f7-4b7b-a682-4debaef26160",
        "colab": {
          "base_uri": "https://localhost:8080/"
        }
      },
      "id": "tVpyvwY_tehq",
      "execution_count": null,
      "outputs": [
        {
          "output_type": "stream",
          "name": "stdout",
          "text": [
            "Mean monthly return of Portfolio A: 0.0350\n",
            "Mean monthly return of Portfolio B: 0.0317\n",
            "Mean monthly return of Portfolio C: 0.0300\n"
          ]
        }
      ]
    },
    {
      "cell_type": "code",
      "source": [
        "\n",
        "mean_returns = {\n",
        "    'portfolio_A': mean_return_A,\n",
        "    'portfolio_B': mean_return_B,\n",
        "    'portfolio_C': mean_return_C\n",
        "}\n",
        "\n",
        "best_portfolio = max(mean_returns, key=mean_returns.get)\n",
        "\n",
        "print(f\"The portfolio with the highest mean return is: {best_portfolio} ({mean_returns[best_portfolio]:.4f})\")\n"
      ],
      "metadata": {
        "id": "JONQdubUt4EL",
        "outputId": "2e8e34fc-581f-49dd-92d9-cf58d102cd15",
        "colab": {
          "base_uri": "https://localhost:8080/"
        }
      },
      "id": "JONQdubUt4EL",
      "execution_count": null,
      "outputs": [
        {
          "output_type": "stream",
          "name": "stdout",
          "text": [
            "The portfolio with the highest mean return is: portfolio_A (0.0350)\n"
          ]
        }
      ]
    },
    {
      "cell_type": "code",
      "source": [
        "\n",
        "all_returns = np.array(returns_data['portfolio_A'] +\n",
        "                       returns_data['portfolio_B'] +\n",
        "                       returns_data['portfolio_C'])\n",
        "\n",
        "\n",
        "overall_average = np.mean(all_returns)\n",
        "\n",
        "print(f\"Overall average return across all portfolios: {overall_average:.4f}\")\n"
      ],
      "metadata": {
        "id": "ykoI5M9Ju6vz",
        "outputId": "16932c62-d693-4764-c665-df93cdf37fb8",
        "colab": {
          "base_uri": "https://localhost:8080/"
        }
      },
      "id": "ykoI5M9Ju6vz",
      "execution_count": null,
      "outputs": [
        {
          "output_type": "stream",
          "name": "stdout",
          "text": [
            "Overall average return across all portfolios: 0.0322\n"
          ]
        }
      ]
    },
    {
      "cell_type": "code",
      "source": [
        "\n",
        "var_A = np.var(portfolio_A)\n",
        "std_A = np.std(portfolio_A)\n",
        "\n",
        "\n",
        "var_B = np.var(portfolio_B)\n",
        "std_B = np.std(portfolio_B)\n",
        "\n",
        "\n",
        "var_C = np.var(portfolio_C)\n",
        "std_C = np.std(portfolio_C)\n",
        "\n",
        "\n",
        "print(f\"Portfolio A - Variance: {var_A:.6f}, Standard Deviation: {std_A:.6f}\")\n",
        "print(f\"Portfolio B - Variance: {var_B:.6f}, Standard Deviation: {std_B:.6f}\")\n",
        "print(f\"Portfolio C - Variance: {var_C:.6f}, Standard Deviation: {std_C:.6f}\")\n"
      ],
      "metadata": {
        "id": "Kx_5sTPIwTQj",
        "outputId": "ae5ad3f6-74a8-4d6b-e1f6-60497efd71f1",
        "colab": {
          "base_uri": "https://localhost:8080/"
        }
      },
      "id": "Kx_5sTPIwTQj",
      "execution_count": null,
      "outputs": [
        {
          "output_type": "stream",
          "name": "stdout",
          "text": [
            "Portfolio A - Variance: 0.000292, Standard Deviation: 0.017078\n",
            "Portfolio B - Variance: 0.000181, Standard Deviation: 0.013437\n",
            "Portfolio C - Variance: 0.000167, Standard Deviation: 0.012910\n"
          ]
        }
      ]
    },
    {
      "cell_type": "markdown",
      "id": "8c6033ff",
      "metadata": {
        "id": "8c6033ff"
      },
      "source": [
        "# Ex No 1.c: Splitting and Aggregation\n",
        "Aim:\n",
        "To practice slicing, indexing, splitting, and aggregating Numpy arrays.\n",
        "\n",
        "Scenario:\n",
        "You are analysing the monthly rainfall data of a region for a year. You need to extract specific information for analysis, including quarterly splits and total rainfall for each quarter.\n",
        "\n",
        "Sample Dataset:\n",
        "rainfall_data = [120, 85, 90, 110, 95, 100, 105, 85, 115, 130, 125, 140]\n",
        "\n",
        "Task to be Performed:\n",
        "\n",
        "1.\tCreate a Numpy array from the given rainfall data.\n",
        "2.\tSlice the array to get the rainfall data for the first quarter (January to March).\n",
        "3.\tIndex the array to get the rainfall data for July.\n",
        "4.\tSplit the array into four quarters and print each quarter's data.\n",
        "5.\tCalculate and print the total rainfall for each quarter and also print the month with the highest rainfall in each month\n",
        "\n",
        "Expected Output:\n",
        "\n",
        "1.\tFirst Quarter Rainfall Data: [120 85 90]\n",
        "\n",
        "2.\tRainfall for July: 105\n",
        "\n",
        "3.\tFirst Quarter Rainfall Data: [120  85  90]\n",
        "    Second Quarter Rainfall Data: [110  95 100]\n",
        "    Third Quarter Rainfall Data: [105  85 115]\n",
        "    Fourth Quarter Rainfall Data: [130 125 140].\n",
        "\n",
        "4.\tTotal Rainfall for First Quarter: 295\n",
        "\n",
        "    Month with highest rainfall in First Quarter: Month 1 with 120\n",
        "\n",
        "    Total Rainfall for Second Quarter: 305\n",
        "\n",
        "    Month with highest rainfall in Second Quarter: Month 1 with 110\n",
        "\n",
        "    Total Rainfall for Third Quarter: 305\n",
        "\n",
        "    Month with highest rainfall in Third Quarter: Month 3 with 115\n",
        "\n",
        "    Total Rainfall for Fourth Quarter: 395\n",
        "    \n",
        "    Month with highest rainfall in Fourth Quarter: Month 3 with 140\n"
      ]
    },
    {
      "cell_type": "code",
      "execution_count": null,
      "id": "e56c8d72",
      "metadata": {
        "id": "e56c8d72"
      },
      "outputs": [],
      "source": [
        "rainfall_data = [120, 85, 90, 110, 95, 100, 105, 85, 115, 130, 125, 140]\n",
        "rainfall = np.array(rainfall_data)"
      ]
    },
    {
      "cell_type": "code",
      "source": [
        "first_quarter = rainfall[0:3]\n",
        "\n",
        "print(\"Rainfall for First Quarter (Jan - Mar):\")\n",
        "print(first_quarter)\n"
      ],
      "metadata": {
        "id": "XbVwH6Y1xSHr",
        "outputId": "cb5af313-1ce6-4ae4-a731-724bbca22289",
        "colab": {
          "base_uri": "https://localhost:8080/"
        }
      },
      "id": "XbVwH6Y1xSHr",
      "execution_count": null,
      "outputs": [
        {
          "output_type": "stream",
          "name": "stdout",
          "text": [
            "Rainfall for First Quarter (Jan - Mar):\n",
            "[120  85  90]\n"
          ]
        }
      ]
    },
    {
      "cell_type": "code",
      "source": [
        "\n",
        "july_rainfall = rainfall[6]\n",
        "\n",
        "print(\"Rainfall in July:\", july_rainfall)\n"
      ],
      "metadata": {
        "id": "Ztp6WbvbxjzC",
        "outputId": "0db61be3-9558-4982-a766-7f12215e9bce",
        "colab": {
          "base_uri": "https://localhost:8080/"
        }
      },
      "id": "Ztp6WbvbxjzC",
      "execution_count": null,
      "outputs": [
        {
          "output_type": "stream",
          "name": "stdout",
          "text": [
            "Rainfall in July: 105\n"
          ]
        }
      ]
    },
    {
      "cell_type": "code",
      "source": [
        "quarter1 = rainfall[0:3]\n",
        "quarter2 = rainfall[3:6]\n",
        "quarter3 = rainfall[6:9]\n",
        "quarter4 = rainfall[9:12]\n",
        "\n",
        "print(\"Rainfall for First Quarter:\")\n",
        "print(quarter1)\n",
        "print(\"Rainfall for second Quarter:\")\n",
        "print(quarter2)\n",
        "print(\"Rainfall for third Quarter:\")\n",
        "print(quarter3)\n",
        "print(\"Rainfall for final Quarter:\")\n",
        "print(quarter4)\n",
        "\n",
        "\n"
      ],
      "metadata": {
        "id": "BtIdPwYkxrPi",
        "outputId": "164c6e63-9224-4db9-d020-ed67b05f4714",
        "colab": {
          "base_uri": "https://localhost:8080/"
        }
      },
      "id": "BtIdPwYkxrPi",
      "execution_count": null,
      "outputs": [
        {
          "output_type": "stream",
          "name": "stdout",
          "text": [
            "Rainfall for First Quarter:\n",
            "[120  85  90]\n",
            "Rainfall for second Quarter:\n",
            "[110  95 100]\n",
            "Rainfall for third Quarter:\n",
            "[105  85 115]\n",
            "Rainfall for final Quarter:\n",
            "[130 125 140]\n"
          ]
        }
      ]
    },
    {
      "cell_type": "code",
      "source": [
        "total_quarter1 = np.sum(quarter1)\n",
        "max_value1 = np.max(quarter1)\n",
        "total_quarter2 = np.sum(quarter2)\n",
        "max_value2 = np.max(quarter2)\n",
        "total_quarter3 = np.sum(quarter3)\n",
        "max_value3 = np.max(quarter3)\n",
        "total_quarter4 = np.sum(quarter4)\n",
        "max_value4 = np.max(quarter4)\n",
        "\n",
        "print(\"Total rainfall for first quarter:\")\n",
        "print(total_quarter1)\n",
        "print(\"Month with highest rainfall in First Quarter:\")\n",
        "print(max_value1)\n",
        "print(\"Total rainfall for second quarter:\")\n",
        "print(total_quarter2)\n",
        "print(\"Month with highest rainfall in second Quarter:\")\n",
        "print(max_value2)\n",
        "print(\"Total rainfall for third quarter:\")\n",
        "print(total_quarter3)\n",
        "print(\"Month with highest rainfall in third Quarter:\")\n",
        "print(max_value3)\n",
        "print(\"Total rainfall for final quarter:\")\n",
        "print(total_quarter4)\n",
        "print(\"Month with highest rainfall in final Quarter:\")\n",
        "print(max_value4)\n",
        "\n",
        "\n",
        "\n",
        "\n"
      ],
      "metadata": {
        "id": "JfyqgzsMypCL",
        "outputId": "a5dd9605-fd83-4dc4-c2da-1b39edbde296",
        "colab": {
          "base_uri": "https://localhost:8080/"
        }
      },
      "id": "JfyqgzsMypCL",
      "execution_count": null,
      "outputs": [
        {
          "output_type": "stream",
          "name": "stdout",
          "text": [
            "Total rainfall for first quarter:\n",
            "295\n",
            "Month with highest rainfall in First Quarter:\n",
            "120\n",
            "Total rainfall for second quarter:\n",
            "305\n",
            "Month with highest rainfall in second Quarter:\n",
            "110\n",
            "Total rainfall for third quarter:\n",
            "305\n",
            "Month with highest rainfall in third Quarter:\n",
            "115\n",
            "Total rainfall for final quarter:\n",
            "395\n",
            "Month with highest rainfall in final Quarter:\n",
            "140\n"
          ]
        }
      ]
    }
  ],
  "metadata": {
    "kernelspec": {
      "display_name": "Python 3",
      "language": "python",
      "name": "python3"
    },
    "language_info": {
      "codemirror_mode": {
        "name": "ipython",
        "version": 3
      },
      "file_extension": ".py",
      "mimetype": "text/x-python",
      "name": "python",
      "nbconvert_exporter": "python",
      "pygments_lexer": "ipython3",
      "version": "3.8.8"
    },
    "colab": {
      "provenance": []
    }
  },
  "nbformat": 4,
  "nbformat_minor": 5
}